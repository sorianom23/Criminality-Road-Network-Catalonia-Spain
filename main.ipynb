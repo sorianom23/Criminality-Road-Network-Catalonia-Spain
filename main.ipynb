{
 "cells": [
  {
   "cell_type": "code",
   "execution_count": 1,
   "metadata": {},
   "outputs": [],
   "source": [
    "import pandas as pd\n",
    "import numpy as np\n",
    "import matplotlib.pyplot as plt\n",
    "import seaborn as sns\n",
    "\n",
    "from functions import *"
   ]
  },
  {
   "cell_type": "code",
   "execution_count": 2,
   "metadata": {},
   "outputs": [],
   "source": [
    "#import plotly\n",
    "#import plotly.express as px\n",
    "#from plotly.offline import download_plotlyjs, init_notebook_mode, plot, iplot\n",
    "#import plotly.graph_objects as go\n",
    "#init_notebook_mode(connected=True)"
   ]
  },
  {
   "cell_type": "markdown",
   "metadata": {},
   "source": [
    "Data Source 'fets': https://datos.gob.es/es/catalogo/a09002970-delitos-y-hechos-delicuenciales-producidos-en-la-red-viaria-patrimonio"
   ]
  },
  {
   "cell_type": "code",
   "execution_count": 4,
   "metadata": {},
   "outputs": [],
   "source": [
    "fets = pd.read_csv('data/fets.csv')\n",
    "patrulles = pd.read_csv('data/mitjana_patrulles.csv')"
   ]
  },
  {
   "cell_type": "markdown",
   "metadata": {},
   "source": [
    "##### The following list/index summarizes the actions I am taking in order to clean the data. So it is completely ready to create a visualization using Tableau or any other BI tool.\n",
    "- #### Data Cleaning\n",
    "    - *1.1 Standarize col names and translate to English*\n",
    "    - *1.2 Standarize upper/lower case for RP and ABT values*\n",
    "    - *1.3 Remove RP and ABP in front of the value name (area)*\n",
    "    - *1.4 Create a new col called 'Date':* This column will be datetime type and will include the month and the year when the offense happened.\n",
    "    - *1.5 Unify value names for the 'offenses_crimes' column.*\n"
   ]
  },
  {
   "cell_type": "code",
   "execution_count": 5,
   "metadata": {},
   "outputs": [
    {
     "data": {
      "text/html": [
       "<div>\n",
       "<style scoped>\n",
       "    .dataframe tbody tr th:only-of-type {\n",
       "        vertical-align: middle;\n",
       "    }\n",
       "\n",
       "    .dataframe tbody tr th {\n",
       "        vertical-align: top;\n",
       "    }\n",
       "\n",
       "    .dataframe thead th {\n",
       "        text-align: right;\n",
       "    }\n",
       "</style>\n",
       "<table border=\"1\" class=\"dataframe\">\n",
       "  <thead>\n",
       "    <tr style=\"text-align: right;\">\n",
       "      <th></th>\n",
       "      <th>month</th>\n",
       "      <th>month_name</th>\n",
       "      <th>year</th>\n",
       "      <th>RP</th>\n",
       "      <th>ABP</th>\n",
       "      <th>offense_crime</th>\n",
       "      <th>number</th>\n",
       "    </tr>\n",
       "  </thead>\n",
       "  <tbody>\n",
       "    <tr>\n",
       "      <th>0</th>\n",
       "      <td>1</td>\n",
       "      <td>Gener</td>\n",
       "      <td>2011</td>\n",
       "      <td>RP CENTRAL</td>\n",
       "      <td>ABP OSONA</td>\n",
       "      <td>Conduir sota els efectes d'alcohol</td>\n",
       "      <td>11</td>\n",
       "    </tr>\n",
       "    <tr>\n",
       "      <th>1</th>\n",
       "      <td>1</td>\n",
       "      <td>Gener</td>\n",
       "      <td>2011</td>\n",
       "      <td>RP CENTRAL</td>\n",
       "      <td>ABP OSONA</td>\n",
       "      <td>Negativa a sotmetre's a les proves</td>\n",
       "      <td>4</td>\n",
       "    </tr>\n",
       "    <tr>\n",
       "      <th>2</th>\n",
       "      <td>1</td>\n",
       "      <td>Gener</td>\n",
       "      <td>2011</td>\n",
       "      <td>RP CENTRAL</td>\n",
       "      <td>ABP OSONA</td>\n",
       "      <td>Conduir sense permís per pèrdua de vig.\\nper p...</td>\n",
       "      <td>6</td>\n",
       "    </tr>\n",
       "    <tr>\n",
       "      <th>3</th>\n",
       "      <td>1</td>\n",
       "      <td>Gener</td>\n",
       "      <td>2011</td>\n",
       "      <td>RP CENTRAL</td>\n",
       "      <td>ABP OSONA</td>\n",
       "      <td>Conduir sense haver obtingut mai permís o\\nlli...</td>\n",
       "      <td>2</td>\n",
       "    </tr>\n",
       "    <tr>\n",
       "      <th>4</th>\n",
       "      <td>1</td>\n",
       "      <td>Gener</td>\n",
       "      <td>2011</td>\n",
       "      <td>RP CENTRAL</td>\n",
       "      <td>ABP OSONA</td>\n",
       "      <td>Cond. amb priv. judicial caut. o def.\\npermís/...</td>\n",
       "      <td>1</td>\n",
       "    </tr>\n",
       "  </tbody>\n",
       "</table>\n",
       "</div>"
      ],
      "text/plain": [
       "   month month_name  year          RP        ABP  \\\n",
       "0      1      Gener  2011  RP CENTRAL  ABP OSONA   \n",
       "1      1      Gener  2011  RP CENTRAL  ABP OSONA   \n",
       "2      1      Gener  2011  RP CENTRAL  ABP OSONA   \n",
       "3      1      Gener  2011  RP CENTRAL  ABP OSONA   \n",
       "4      1      Gener  2011  RP CENTRAL  ABP OSONA   \n",
       "\n",
       "                                       offense_crime  number  \n",
       "0                 Conduir sota els efectes d'alcohol      11  \n",
       "1                 Negativa a sotmetre's a les proves       4  \n",
       "2  Conduir sense permís per pèrdua de vig.\\nper p...       6  \n",
       "3  Conduir sense haver obtingut mai permís o\\nlli...       2  \n",
       "4  Cond. amb priv. judicial caut. o def.\\npermís/...       1  "
      ]
     },
     "metadata": {},
     "output_type": "display_data"
    },
    {
     "data": {
      "text/html": [
       "<div>\n",
       "<style scoped>\n",
       "    .dataframe tbody tr th:only-of-type {\n",
       "        vertical-align: middle;\n",
       "    }\n",
       "\n",
       "    .dataframe tbody tr th {\n",
       "        vertical-align: top;\n",
       "    }\n",
       "\n",
       "    .dataframe thead th {\n",
       "        text-align: right;\n",
       "    }\n",
       "</style>\n",
       "<table border=\"1\" class=\"dataframe\">\n",
       "  <thead>\n",
       "    <tr style=\"text-align: right;\">\n",
       "      <th></th>\n",
       "      <th>month</th>\n",
       "      <th>month_name</th>\n",
       "      <th>year</th>\n",
       "      <th>place</th>\n",
       "      <th>daily_patrols_mean</th>\n",
       "    </tr>\n",
       "  </thead>\n",
       "  <tbody>\n",
       "    <tr>\n",
       "      <th>0</th>\n",
       "      <td>1</td>\n",
       "      <td>Gener</td>\n",
       "      <td>2011</td>\n",
       "      <td>Serveis Centrals</td>\n",
       "      <td>176</td>\n",
       "    </tr>\n",
       "    <tr>\n",
       "      <th>1</th>\n",
       "      <td>1</td>\n",
       "      <td>Gener</td>\n",
       "      <td>2011</td>\n",
       "      <td>Serveis Regionals - RP Central</td>\n",
       "      <td>34</td>\n",
       "    </tr>\n",
       "    <tr>\n",
       "      <th>2</th>\n",
       "      <td>1</td>\n",
       "      <td>Gener</td>\n",
       "      <td>2011</td>\n",
       "      <td>ABP Osona</td>\n",
       "      <td>22</td>\n",
       "    </tr>\n",
       "    <tr>\n",
       "      <th>3</th>\n",
       "      <td>1</td>\n",
       "      <td>Gener</td>\n",
       "      <td>2011</td>\n",
       "      <td>ABP Anoia</td>\n",
       "      <td>19</td>\n",
       "    </tr>\n",
       "    <tr>\n",
       "      <th>4</th>\n",
       "      <td>1</td>\n",
       "      <td>Gener</td>\n",
       "      <td>2011</td>\n",
       "      <td>ABP Bages</td>\n",
       "      <td>27</td>\n",
       "    </tr>\n",
       "  </tbody>\n",
       "</table>\n",
       "</div>"
      ],
      "text/plain": [
       "   month month_name  year                           place  daily_patrols_mean\n",
       "0      1      Gener  2011                Serveis Centrals                 176\n",
       "1      1      Gener  2011  Serveis Regionals - RP Central                  34\n",
       "2      1      Gener  2011                       ABP Osona                  22\n",
       "3      1      Gener  2011                       ABP Anoia                  19\n",
       "4      1      Gener  2011                       ABP Bages                  27"
      ]
     },
     "metadata": {},
     "output_type": "display_data"
    }
   ],
   "source": [
    "# 1.1 Standarize col names to make it easier\n",
    "fets = fets.rename(columns = {'Mes':'month', 'Nom mes':'month_name', 'Any':'year', 'Regió Policial (RP)':'RP', 'Àrea Regional de Trànsit (ART)/ Àrea Bàsica Policial (ABP)':'ABP', 'Tipus de fet':'offense_crime', 'Nombre':'number'})\n",
    "patrulles = patrulles.rename(columns = {'Mes':'month', 'Nom mes':'month_name', 'Any':'year', 'Servei origen dotació':'place', 'Mitjana patrulles diàries':'daily_patrols_mean'})\n",
    "display(fets.head())\n",
    "display(patrulles.head())"
   ]
  },
  {
   "cell_type": "code",
   "execution_count": 6,
   "metadata": {},
   "outputs": [],
   "source": [
    "# 1.2 Standarize upper/lower case for RP and ABT values\n",
    "# the reason why it looks like this values are repeat is because\n",
    "# from 2011 until 2017 they used upper case\n",
    "# from 1017 until 2021 they user lower case\n",
    "fets['RP'] = fets['RP'].str.upper()\n",
    "fets['ABP'] = fets['ABP'].str.upper()"
   ]
  },
  {
   "cell_type": "code",
   "execution_count": 7,
   "metadata": {},
   "outputs": [],
   "source": [
    "# 1.3 Remove RP and ABP in from of the value name (area)\n",
    "fets['ABP'] = fets['ABP'].str.replace('ABP',' ')\n",
    "fets['RP'] = fets['RP'].str.replace('RP',' ')"
   ]
  },
  {
   "cell_type": "code",
   "execution_count": 8,
   "metadata": {},
   "outputs": [],
   "source": [
    "# 1.4 Creating a new col called 'Date'. This column will be .datetime type and will include the month and the year when the offense happened\n",
    "fets['date'] = pd.to_datetime(fets[['year', 'month']].assign(DAY=1))"
   ]
  },
  {
   "cell_type": "code",
   "execution_count": 9,
   "metadata": {},
   "outputs": [],
   "source": [
    "# 1.5 Let's now unify some value names that have been written in different ways but mean the same.\n",
    "# Let's keep the count of our unique values for that col to see the amount of unique values we cold describe better.\n",
    "\n",
    "fets['offense_crime'].nunique()"
   ]
  },
  {
   "cell_type": "code",
   "execution_count": 11,
   "metadata": {},
   "outputs": [],
   "source": [
    "# Thefts inside vehicles are divided by 'theft' or 'petty theft'\n",
    "# in this case we don't need to know the severity of the offence, just the type\n",
    "# so I will make them all (petty or note) count as 'theft' 'Furt'\n",
    "fets.loc[fets['offense_crime'].str.contains('lleu'), 'offense_crime'] = 'Furt'\n",
    "fets.loc[fets['offense_crime'].str.contains('Falta de furt'), 'offense_crime'] = 'Furt'"
   ]
  },
  {
   "cell_type": "code",
   "execution_count": 12,
   "metadata": {},
   "outputs": [
    {
     "name": "stderr",
     "output_type": "stream",
     "text": [
      "/var/folders/6m/xnrf68g93dj9cnj3lwnc18b00000gn/T/ipykernel_70783/1174277919.py:4: UserWarning: This pattern is interpreted as a regular expression, and has match groups. To actually get the groups, use str.extract.\n",
      "  fets.loc[fets['offense_crime'].str.contains('Danys (lleu)'), 'offense_crime'] = 'Danys'\n"
     ]
    }
   ],
   "source": [
    "# Damage has also been recorded as ´Damage´ and ´Damage fault´ so will put them all together as ´Damage´ ´Danys´\n",
    "# We will also include 'Slight Damage' as 'Damage' 'Danys'\n",
    "fets.loc[fets['offense_crime'].str.contains('Falta de danys'), 'offense_crime'] = 'Danys'\n",
    "fets.loc[fets['offense_crime'].str.contains('Danys (lleu)'), 'offense_crime'] = 'Danys'"
   ]
  },
  {
   "cell_type": "code",
   "execution_count": 13,
   "metadata": {},
   "outputs": [],
   "source": [
    "# Driving with precautionary or definitive judicial deprivation, without a driving license.\n",
    "# This offense has ben recorded in two different ways but both meaning the same.\n",
    "# Let's put them together under the value 'Conduir amb privació judicial cautelar o definitiva de permís/llicència'\n",
    "fets.loc[fets['offense_crime'].str.contains('Cond. amb priv. judicial caut. o def.'), 'offense_crime'] = 'Conduir amb privació judicial cautelar o definitiva de permís/llicència'"
   ]
  },
  {
   "cell_type": "code",
   "execution_count": 14,
   "metadata": {},
   "outputs": [],
   "source": [
    "# Driving without a license due to loss of points\n",
    "# This offense has been recorded in two different ways but both meaning the same.\n",
    "# Let's put them together under the value 'Conduir sense permís per pèrdua de vigència per punts'\n",
    "\n",
    "fets.loc[fets['offense_crime'].str.contains('Conduir sense permís per pèrdua de vig.'), 'offense_crime'] = 'Conduir sense permís per pèrdua de vigència per punts'"
   ]
  },
  {
   "cell_type": "code",
   "execution_count": 15,
   "metadata": {},
   "outputs": [],
   "source": [
    "# Bank scams are recorded as 'bank scams' and 'banks scams (credit card)' \n",
    "# I will put them all together as 'bank scams' 'falta d'estafa (bancaria)'\n",
    "fets.loc[fets['offense_crime'].str.contains('targetes'), 'offense_crime'] = \"Falta d'estafa (bancària)\""
   ]
  },
  {
   "cell_type": "code",
   "execution_count": 20,
   "metadata": {},
   "outputs": [],
   "source": [
    "fets.loc[fets['offense_crime'].str.contains('Robatori amb força'), 'offense_crime'] = 'Robatori de vehicle amb força/violència/intimidació'\n",
    "fets.loc[fets['offense_crime'].str.contains(\"Robatori o furt d'ús de vehicle\"), 'offense_crime'] = 'Robatori de vehicle amb força/violència/intimidació'\n",
    "fets.loc[fets['offense_crime'].str.contains('Robatori amb violència i/o intimidació'), 'offense_crime'] = 'Robatori de vehicle amb força/violència/intimidació'\n"
   ]
  },
  {
   "cell_type": "code",
   "execution_count": 24,
   "metadata": {},
   "outputs": [
    {
     "data": {
      "text/plain": [
       "191"
      ]
     },
     "execution_count": 24,
     "metadata": {},
     "output_type": "execute_result"
    }
   ],
   "source": [
    "# It seems like we could clean our data in a quite efficient way :)\n",
    "fets['offense_crime'].nunique()"
   ]
  },
  {
   "cell_type": "code",
   "execution_count": 25,
   "metadata": {},
   "outputs": [],
   "source": [
    "# Saving data for Tableau\n",
    "fets.to_csv('data/tableau_fets.csv')\n",
    "#patrulles.to_csv('data/tableau_patrulles.csv')"
   ]
  }
 ],
 "metadata": {
  "interpreter": {
   "hash": "aee8b7b246df8f9039afb4144a1f6fd8d2ca17a180786b69acc140d282b71a49"
  },
  "kernelspec": {
   "display_name": "Python 3.9.1 64-bit",
   "language": "python",
   "name": "python3"
  },
  "language_info": {
   "codemirror_mode": {
    "name": "ipython",
    "version": 3
   },
   "file_extension": ".py",
   "mimetype": "text/x-python",
   "name": "python",
   "nbconvert_exporter": "python",
   "pygments_lexer": "ipython3",
   "version": "3.8.5"
  },
  "orig_nbformat": 4
 },
 "nbformat": 4,
 "nbformat_minor": 2
}
